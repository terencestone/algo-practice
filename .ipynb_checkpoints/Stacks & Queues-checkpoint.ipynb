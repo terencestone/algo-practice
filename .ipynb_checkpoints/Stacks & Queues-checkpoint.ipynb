{
 "cells": [
  {
   "cell_type": "code",
   "execution_count": 268,
   "metadata": {},
   "outputs": [],
   "source": [
    "# Stack implemented as linked list\n",
    "class EmptyStackException(Exception):\n",
    "    def __init__(self, msg=\"Stack is empty.\"):\n",
    "        super(EmptyStackException, self).__init__(msg)\n",
    "        \n",
    "class StackNode:\n",
    "    def __init__(self, data=None):\n",
    "        self.data = data\n",
    "        self.next = None\n",
    "    \n",
    "    def __str__(self):\n",
    "        return f'(data: {self.data}, next: {str(self.next)})'\n",
    "            \n",
    "class Stack:\n",
    "    def __init__(self):\n",
    "        self.top = None\n",
    "    \n",
    "    def __str__(self):\n",
    "        if not self.top:\n",
    "            return str([])\n",
    "        \n",
    "        l = []\n",
    "        current = self.top\n",
    "        while current:\n",
    "            l.append(str(current))\n",
    "            if current.next:\n",
    "                current = current.next\n",
    "            else:\n",
    "                current = None\n",
    "        \n",
    "        return str(l) \n",
    "    \n",
    "    def pop(self):\n",
    "        if not self.top: \n",
    "            try:\n",
    "                raise EmptyStackException()\n",
    "            except EmptyStackException as e:\n",
    "                return e\n",
    "        item = self.top.data\n",
    "        self.top = self.top.next\n",
    "        return item\n",
    "    \n",
    "    def push(self, item):\n",
    "        new_top = StackNode(item)\n",
    "        new_top.next = self.top\n",
    "        self.top = new_top\n",
    "    \n",
    "    def peek(self):\n",
    "        if not self.top: \n",
    "            try:\n",
    "                raise EmptyStackException()\n",
    "            except EmptyStackException as e:\n",
    "                return e\n",
    "        return self.top.data\n",
    "    \n",
    "    def isEmpty(self):\n",
    "        return not bool(self.top)\n",
    "    \n",
    "# Stack implemented with python list\n",
    "class PyStack:\n",
    "    def __init__(self):\n",
    "        self.items = []\n",
    "    \n",
    "    def pop(self):\n",
    "        return self.items.pop()\n",
    "    \n",
    "    def push(self, item):\n",
    "        self.items.append(item)\n",
    "    \n",
    "    def peek(self):\n",
    "        return self.items[-1]\n",
    "    \n",
    "    def empty_cache(self):\n",
    "        len(self.items) == 0"
   ]
  },
  {
   "cell_type": "code",
   "execution_count": 140,
   "metadata": {},
   "outputs": [],
   "source": [
    "stack = PyStack()"
   ]
  },
  {
   "cell_type": "code",
   "execution_count": 141,
   "metadata": {},
   "outputs": [],
   "source": [
    "stack.push(1)\n",
    "stack.push(2)\n",
    "stack.push(3)"
   ]
  },
  {
   "cell_type": "code",
   "execution_count": 146,
   "metadata": {},
   "outputs": [
    {
     "data": {
      "text/plain": [
       "2"
      ]
     },
     "execution_count": 146,
     "metadata": {},
     "output_type": "execute_result"
    }
   ],
   "source": [
    "max(stack.items)"
   ]
  },
  {
   "cell_type": "code",
   "execution_count": 144,
   "metadata": {},
   "outputs": [
    {
     "data": {
      "text/plain": [
       "3"
      ]
     },
     "execution_count": 144,
     "metadata": {},
     "output_type": "execute_result"
    }
   ],
   "source": [
    "stack.pop()"
   ]
  },
  {
   "cell_type": "code",
   "execution_count": 128,
   "metadata": {},
   "outputs": [],
   "source": [
    "class NoSuchElementException(Exception):\n",
    "    def __init__(self, msg=\"Element does not exist\"):\n",
    "        super(NoSuchElementException, self).__init__(msg)\n",
    "        \n",
    "class QueueNode:\n",
    "    def __init__(self, data=None):\n",
    "        self.data = data\n",
    "        self.next = None\n",
    "    \n",
    "    def __str__(self):\n",
    "        return f'(data: {self.data}, next: {str(self.next)})'\n",
    "            \n",
    "class Queue:\n",
    "    def __init__(self):\n",
    "        self.first = None\n",
    "        self.last = None\n",
    "    \n",
    "    def __str__(self):\n",
    "        if not self.first:\n",
    "            return str([])\n",
    "        \n",
    "        l = []\n",
    "        current = self.first\n",
    "        while current:\n",
    "            l.append(str(current))\n",
    "            if current.next:\n",
    "                current = current.next\n",
    "            else:\n",
    "                current = None\n",
    "        \n",
    "        return str(l) \n",
    "    \n",
    "    def remove(self):\n",
    "        if not self.first: \n",
    "            try:\n",
    "                raise NoSuchElementException()\n",
    "            except NoSuchElementException as e:\n",
    "                return e\n",
    "        data = self.first.data\n",
    "        self.first = self.first.next\n",
    "        if not self.first: self.last = None\n",
    "        return data\n",
    "    \n",
    "    def add(self, item):\n",
    "        new_node = QueueNode(item)\n",
    "        if self.last: self.last.next = new_node # ensuring the node is updated\n",
    "        self.last = new_node # ensuring the queue is updated\n",
    "        if not self.first: self.first = self.last\n",
    "    \n",
    "    def peek(self):\n",
    "        if not self.first: \n",
    "            try:\n",
    "                raise NoSuchElementException()\n",
    "            except NoSuchElementException as e:\n",
    "                return e\n",
    "        return self.first.data\n",
    "    \n",
    "    def isEmpty(self):\n",
    "        return not bool(self.first)\n",
    "            "
   ]
  },
  {
   "cell_type": "code",
   "execution_count": 123,
   "metadata": {},
   "outputs": [],
   "source": [
    "queue = Queue()"
   ]
  },
  {
   "cell_type": "code",
   "execution_count": 124,
   "metadata": {},
   "outputs": [],
   "source": [
    "queue.add(1)\n",
    "queue.add(2)\n",
    "queue.add(3)"
   ]
  },
  {
   "cell_type": "code",
   "execution_count": 125,
   "metadata": {},
   "outputs": [
    {
     "name": "stdout",
     "output_type": "stream",
     "text": [
      "['(data: 1, next: (data: 2, next: (data: 3, next: None)))', '(data: 2, next: (data: 3, next: None))', '(data: 3, next: None)']\n"
     ]
    }
   ],
   "source": [
    "print(queue)"
   ]
  },
  {
   "cell_type": "code",
   "execution_count": 126,
   "metadata": {},
   "outputs": [
    {
     "data": {
      "text/plain": [
       "1"
      ]
     },
     "execution_count": 126,
     "metadata": {},
     "output_type": "execute_result"
    }
   ],
   "source": [
    "queue.remove()"
   ]
  },
  {
   "cell_type": "code",
   "execution_count": 147,
   "metadata": {},
   "outputs": [],
   "source": [
    "import collections"
   ]
  },
  {
   "cell_type": "code",
   "execution_count": 164,
   "metadata": {},
   "outputs": [],
   "source": [
    "ElementsWithCachedMax = collections.namedtuple('ElementsWithCachedMax', ('element', 'max'))"
   ]
  },
  {
   "cell_type": "code",
   "execution_count": 167,
   "metadata": {},
   "outputs": [
    {
     "data": {
      "text/plain": [
       "ElementsWithCachedMax(element=4, max=5)"
      ]
     },
     "execution_count": 167,
     "metadata": {},
     "output_type": "execute_result"
    }
   ],
   "source": [
    "ElementsWithCachedMax(4, 5)"
   ]
  },
  {
   "cell_type": "code",
   "execution_count": 261,
   "metadata": {},
   "outputs": [],
   "source": [
    "# trades off time for space with caching\n",
    "# all methods will be O(1)\n",
    "class PyMinStack:\n",
    "    ItemWithMin = collections.namedtuple('ItemWithMin', ('item', 'min'))\n",
    "    \n",
    "    def __init__(self):\n",
    "        self.items_with_cached_min = []\n",
    "    \n",
    "    def pop(self):\n",
    "        if self.empty(): raise IndexError('pop(): empty stack')\n",
    "        return self.items_with_cached_min.pop().item\n",
    "    \n",
    "    def push(self, item):\n",
    "        self.items_with_cached_min.append(\n",
    "            self.ItemWithMin(item, item if self.empty() else min(item, self.mins())))\n",
    "        \n",
    "    def mins(self):\n",
    "        if self.empty(): raise IndexError('min(): empty stack')\n",
    "        return self.items_with_cached_min[-1].min\n",
    "    \n",
    "    def empty(self):\n",
    "        return len(self.items_with_cached_min) == 0\n",
    "\n",
    "# Implemented as a linked list with O(1)\n",
    "class MinStack(Stack):\n",
    "    def __init__(self):\n",
    "        self.top, self.min = None, None\n",
    "    \n",
    "    def mins(self):\n",
    "        return self.min.data\n",
    "        \n",
    "    def pop(self):\n",
    "        if not self.top: return None\n",
    "        self.min = self.min.next\n",
    "        item = self.top.data\n",
    "        self.top = self.top.next\n",
    "        return item\n",
    "    \n",
    "    def push(self, item):\n",
    "        if self.min and (self.min.data < item):\n",
    "            self.min = StackNode(self.min.data)\n",
    "            self.min.next = self.min\n",
    "        else:\n",
    "            self.min = StackNode(item)\n",
    "            self.min.next = self.min\n",
    "        \n",
    "        new_top = StackNode(item)\n",
    "        new_top.next = self.top\n",
    "        self.top = new_top        "
   ]
  },
  {
   "cell_type": "code",
   "execution_count": 266,
   "metadata": {},
   "outputs": [],
   "source": [
    "stack = MinStack()"
   ]
  },
  {
   "cell_type": "code",
   "execution_count": 267,
   "metadata": {},
   "outputs": [
    {
     "ename": "RecursionError",
     "evalue": "maximum recursion depth exceeded",
     "output_type": "error",
     "traceback": [
      "\u001b[0;31m---------------------------------------------------------------------------\u001b[0m",
      "\u001b[0;31mRecursionError\u001b[0m                            Traceback (most recent call last)",
      "\u001b[0;32m<ipython-input-267-c73faa35fdc3>\u001b[0m in \u001b[0;36m<module>\u001b[0;34m\u001b[0m\n\u001b[0;32m----> 1\u001b[0;31m \u001b[0mstack\u001b[0m\u001b[0;34m.\u001b[0m\u001b[0mpush\u001b[0m\u001b[0;34m(\u001b[0m\u001b[0;36m1\u001b[0m\u001b[0;34m)\u001b[0m\u001b[0;34m\u001b[0m\u001b[0;34m\u001b[0m\u001b[0m\n\u001b[0m\u001b[1;32m      2\u001b[0m \u001b[0;31m# stack.push(2)\u001b[0m\u001b[0;34m\u001b[0m\u001b[0;34m\u001b[0m\u001b[0;34m\u001b[0m\u001b[0m\n\u001b[1;32m      3\u001b[0m \u001b[0;31m# stack.push(3)\u001b[0m\u001b[0;34m\u001b[0m\u001b[0;34m\u001b[0m\u001b[0;34m\u001b[0m\u001b[0m\n\u001b[1;32m      4\u001b[0m \u001b[0;31m# stack.pop()\u001b[0m\u001b[0;34m\u001b[0m\u001b[0;34m\u001b[0m\u001b[0;34m\u001b[0m\u001b[0m\n",
      "\u001b[0;32m<ipython-input-261-885a5007ed43>\u001b[0m in \u001b[0;36mpush\u001b[0;34m(self, item)\u001b[0m\n\u001b[1;32m     44\u001b[0m             \u001b[0mself\u001b[0m\u001b[0;34m.\u001b[0m\u001b[0mmin\u001b[0m \u001b[0;34m=\u001b[0m \u001b[0mStackNode\u001b[0m\u001b[0;34m(\u001b[0m\u001b[0mitem\u001b[0m\u001b[0;34m)\u001b[0m\u001b[0;34m\u001b[0m\u001b[0;34m\u001b[0m\u001b[0m\n\u001b[1;32m     45\u001b[0m             \u001b[0mself\u001b[0m\u001b[0;34m.\u001b[0m\u001b[0mmin\u001b[0m\u001b[0;34m.\u001b[0m\u001b[0mnext\u001b[0m \u001b[0;34m=\u001b[0m \u001b[0mself\u001b[0m\u001b[0;34m.\u001b[0m\u001b[0mmin\u001b[0m\u001b[0;34m\u001b[0m\u001b[0;34m\u001b[0m\u001b[0m\n\u001b[0;32m---> 46\u001b[0;31m             \u001b[0mprint\u001b[0m\u001b[0;34m(\u001b[0m\u001b[0mself\u001b[0m\u001b[0;34m.\u001b[0m\u001b[0mmin\u001b[0m\u001b[0;34m)\u001b[0m\u001b[0;34m\u001b[0m\u001b[0;34m\u001b[0m\u001b[0m\n\u001b[0m\u001b[1;32m     47\u001b[0m             \u001b[0;32mpass\u001b[0m\u001b[0;34m\u001b[0m\u001b[0;34m\u001b[0m\u001b[0m\n\u001b[1;32m     48\u001b[0m \u001b[0;34m\u001b[0m\u001b[0m\n",
      "\u001b[0;32m<ipython-input-265-8fc7971f24b6>\u001b[0m in \u001b[0;36m__str__\u001b[0;34m(self)\u001b[0m\n\u001b[1;32m     10\u001b[0m \u001b[0;34m\u001b[0m\u001b[0m\n\u001b[1;32m     11\u001b[0m     \u001b[0;32mdef\u001b[0m \u001b[0m__str__\u001b[0m\u001b[0;34m(\u001b[0m\u001b[0mself\u001b[0m\u001b[0;34m)\u001b[0m\u001b[0;34m:\u001b[0m\u001b[0;34m\u001b[0m\u001b[0;34m\u001b[0m\u001b[0m\n\u001b[0;32m---> 12\u001b[0;31m         \u001b[0mprint\u001b[0m\u001b[0;34m(\u001b[0m\u001b[0;34mf'(data: {self.data}, next: {str(self.next)})'\u001b[0m\u001b[0;34m)\u001b[0m\u001b[0;34m\u001b[0m\u001b[0;34m\u001b[0m\u001b[0m\n\u001b[0m\u001b[1;32m     13\u001b[0m \u001b[0;34m\u001b[0m\u001b[0m\n\u001b[1;32m     14\u001b[0m \u001b[0;32mclass\u001b[0m \u001b[0mStack\u001b[0m\u001b[0;34m:\u001b[0m\u001b[0;34m\u001b[0m\u001b[0;34m\u001b[0m\u001b[0m\n",
      "... last 1 frames repeated, from the frame below ...\n",
      "\u001b[0;32m<ipython-input-265-8fc7971f24b6>\u001b[0m in \u001b[0;36m__str__\u001b[0;34m(self)\u001b[0m\n\u001b[1;32m     10\u001b[0m \u001b[0;34m\u001b[0m\u001b[0m\n\u001b[1;32m     11\u001b[0m     \u001b[0;32mdef\u001b[0m \u001b[0m__str__\u001b[0m\u001b[0;34m(\u001b[0m\u001b[0mself\u001b[0m\u001b[0;34m)\u001b[0m\u001b[0;34m:\u001b[0m\u001b[0;34m\u001b[0m\u001b[0;34m\u001b[0m\u001b[0m\n\u001b[0;32m---> 12\u001b[0;31m         \u001b[0mprint\u001b[0m\u001b[0;34m(\u001b[0m\u001b[0;34mf'(data: {self.data}, next: {str(self.next)})'\u001b[0m\u001b[0;34m)\u001b[0m\u001b[0;34m\u001b[0m\u001b[0;34m\u001b[0m\u001b[0m\n\u001b[0m\u001b[1;32m     13\u001b[0m \u001b[0;34m\u001b[0m\u001b[0m\n\u001b[1;32m     14\u001b[0m \u001b[0;32mclass\u001b[0m \u001b[0mStack\u001b[0m\u001b[0;34m:\u001b[0m\u001b[0;34m\u001b[0m\u001b[0;34m\u001b[0m\u001b[0m\n",
      "\u001b[0;31mRecursionError\u001b[0m: maximum recursion depth exceeded"
     ]
    }
   ],
   "source": [
    "stack.push(1)\n",
    "# stack.push(2)\n",
    "# stack.push(3)\n",
    "# stack.pop()"
   ]
  },
  {
   "cell_type": "code",
   "execution_count": 244,
   "metadata": {},
   "outputs": [],
   "source": [
    "stack.push(-1)"
   ]
  },
  {
   "cell_type": "code",
   "execution_count": null,
   "metadata": {},
   "outputs": [],
   "source": []
  },
  {
   "cell_type": "code",
   "execution_count": null,
   "metadata": {},
   "outputs": [],
   "source": []
  }
 ],
 "metadata": {
  "kernelspec": {
   "display_name": "Python 3",
   "language": "python",
   "name": "python3"
  },
  "language_info": {
   "codemirror_mode": {
    "name": "ipython",
    "version": 3
   },
   "file_extension": ".py",
   "mimetype": "text/x-python",
   "name": "python",
   "nbconvert_exporter": "python",
   "pygments_lexer": "ipython3",
   "version": "3.7.3"
  }
 },
 "nbformat": 4,
 "nbformat_minor": 2
}
