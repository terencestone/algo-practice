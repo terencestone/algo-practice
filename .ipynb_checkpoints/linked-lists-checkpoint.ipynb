{
 "cells": [
  {
   "cell_type": "code",
   "execution_count": 1,
   "metadata": {},
   "outputs": [],
   "source": [
    "class Node:\n",
    "    def __init__(self, data=None):\n",
    "        self.next = None\n",
    "        self.data = data\n",
    "    \n",
    "    def __str__(self):\n",
    "        return f'(data: {self.data}, next: {str(self.next)})'\n",
    "    \n",
    "class LinkedList:\n",
    "    def __init__(self, head=None):\n",
    "        self.head = head\n",
    "    \n",
    "    def __str__(self):\n",
    "        if not self.head:\n",
    "            return str([])\n",
    "        \n",
    "        l = []\n",
    "        current = self.head\n",
    "        while current:\n",
    "            l.append(str(current))\n",
    "            if current.next:\n",
    "                current = current.next\n",
    "            else:\n",
    "                current = None\n",
    "        \n",
    "        return str(l)\n",
    "    \n",
    "    def append(self, data):\n",
    "        if not self.head:\n",
    "            self.head = Node(data)\n",
    "            return\n",
    "        \n",
    "        current = self.head\n",
    "        while current.next:\n",
    "            current = current.next\n",
    "        \n",
    "        current.next = Node(data)\n",
    "        \n",
    "    def prepend(self, data):\n",
    "        new_head = Node(data)\n",
    "        new_head.next = self.head\n",
    "        self.head = new_head\n",
    "        \n",
    "    def delete_with_value(self, data):\n",
    "        head = self.head\n",
    "        if not head: return\n",
    "        if head.data == data:\n",
    "            self.head = head.next\n",
    "            return\n",
    "        \n",
    "        current = head\n",
    "        while current.next != None:\n",
    "            if current.next.data == data:\n",
    "                current.next = current.next.next\n",
    "        \n",
    "            current = current.next"
   ]
  },
  {
   "cell_type": "code",
   "execution_count": 12,
   "metadata": {},
   "outputs": [],
   "source": [
    "]l = LinkedList()\n",
    "l.prepend(1)"
   ]
  },
  {
   "cell_type": "code",
   "execution_count": 9,
   "metadata": {},
   "outputs": [],
   "source": [
    "l.append(5)\n",
    "l.append(1)\n",
    "l.append(3)\n",
    "l.append(1)\n",
    "l.append(4)\n",
    "l.prepen"
   ]
  },
  {
   "cell_type": "code",
   "execution_count": 13,
   "metadata": {},
   "outputs": [
    {
     "name": "stdout",
     "output_type": "stream",
     "text": [
      "['(data: 1, next: None)']\n"
     ]
    }
   ],
   "source": [
    "print(l)"
   ]
  },
  {
   "cell_type": "code",
   "execution_count": 19,
   "metadata": {},
   "outputs": [],
   "source": [
    "# TC: O(n^2), SC: O(1)\n",
    "def remove_duplicates(head):\n",
    "    curr = head\n",
    "    while curr != None:\n",
    "        n = curr\n",
    "        while n.next != None:\n",
    "            if n.next.data == curr.data:\n",
    "                n.next = n.next.next\n",
    "            n = n.next\n",
    "        curr = curr.next\n",
    "\n",
    "# TC: O(n), SC: O(n)\n",
    "def remove_dups(node):\n",
    "    uniqs = set()\n",
    "    previous = None\n",
    "    while node != None:\n",
    "        if node.data in uniqs: \n",
    "            previous.next = node.next\n",
    "        else:\n",
    "            uniqs.add(node.data)\n",
    "            previous = node\n",
    "        node = node.next\n"
   ]
  },
  {
   "cell_type": "code",
   "execution_count": 20,
   "metadata": {},
   "outputs": [],
   "source": [
    "remove_dups(l.head)"
   ]
  },
  {
   "cell_type": "code",
   "execution_count": 6,
   "metadata": {},
   "outputs": [
    {
     "name": "stdout",
     "output_type": "stream",
     "text": [
      "['(data: 5, next: (data: 1, next: (data: 3, next: (data: 1, next: (data: 4, next: None)))))', '(data: 1, next: (data: 3, next: (data: 1, next: (data: 4, next: None))))', '(data: 3, next: (data: 1, next: (data: 4, next: None)))', '(data: 1, next: (data: 4, next: None))', '(data: 4, next: None)']\n"
     ]
    }
   ],
   "source": [
    "print(l)"
   ]
  },
  {
   "cell_type": "code",
   "execution_count": 22,
   "metadata": {},
   "outputs": [],
   "source": [
    "# TC: O(n), SC: O(1)\n",
    "# this works but is a bit non-DRY\n",
    "def find_kth_element(node, k):\n",
    "    length = 1\n",
    "    curr = node\n",
    "    while curr.next:\n",
    "        length += 1\n",
    "        curr = curr.next\n",
    "    pos = length - k\n",
    "    if pos < 0: return \"Out of Range\"\n",
    "    curr = node\n",
    "    while curr.next:\n",
    "        if pos == 0:\n",
    "            return curr.data\n",
    "        pos -= 1\n",
    "        curr = curr.next\n",
    "\n",
    "# this doesn't actually return the right element; have to print it\n",
    "def find_kth_recursive(head, k):\n",
    "    if not head: return 0\n",
    "    \n",
    "    index = find_kth_recursive(head.next, k) + 1\n",
    "    if index == k:\n",
    "        print(head.data)\n",
    "    \n",
    "    return index\n",
    "\n",
    "# O(n), O(1) - most elegant, but least straightforward\n",
    "def kth_to_last(head, k):\n",
    "    p1 = head\n",
    "    p2 = head\n",
    "    \n",
    "    for i in range(0, k):\n",
    "        if not p1: return\n",
    "        p1 = p1.next\n",
    "    \n",
    "    while p1 != None:\n",
    "        p1 = p1.next\n",
    "        p2 = p2.next\n",
    "        \n",
    "    return p2.data"
   ]
  },
  {
   "cell_type": "code",
   "execution_count": 24,
   "metadata": {},
   "outputs": [
    {
     "data": {
      "text/plain": [
       "1"
      ]
     },
     "execution_count": 24,
     "metadata": {},
     "output_type": "execute_result"
    }
   ],
   "source": [
    "kth_to_last(l.head, 4)"
   ]
  },
  {
   "cell_type": "code",
   "execution_count": 87,
   "metadata": {},
   "outputs": [],
   "source": [
    "ll = LinkedList()\n",
    "ll.append(\"a\")\n",
    "ll.append(\"b\")\n",
    "ll.append(\"c\")\n",
    "ll.append(\"d\")\n",
    "ll.append(\"e\")\n",
    "ll.append(\"f\")"
   ]
  },
  {
   "cell_type": "code",
   "execution_count": 88,
   "metadata": {},
   "outputs": [
    {
     "name": "stdout",
     "output_type": "stream",
     "text": [
      "['(data: a, next: (data: b, next: (data: c, next: (data: d, next: (data: e, next: (data: f, next: None))))))', '(data: b, next: (data: c, next: (data: d, next: (data: e, next: (data: f, next: None)))))', '(data: c, next: (data: d, next: (data: e, next: (data: f, next: None))))', '(data: d, next: (data: e, next: (data: f, next: None)))', '(data: e, next: (data: f, next: None))', '(data: f, next: None)']\n"
     ]
    }
   ],
   "source": [
    "print(ll)"
   ]
  },
  {
   "cell_type": "code",
   "execution_count": 89,
   "metadata": {},
   "outputs": [],
   "source": [
    "def get_node(l, data):\n",
    "    curr = l.head\n",
    "    while curr:\n",
    "        if data == curr.data:\n",
    "            return curr\n",
    "        curr = curr.next\n",
    "        if not curr.next: curr = None\n",
    "    return Node()\n",
    "\n",
    "# O(n)\n",
    "def remove_inner(node):\n",
    "    if not node.data: return\n",
    "    curr = node\n",
    "    while curr.next:\n",
    "        curr.data = curr.next.data\n",
    "        if curr.next.next == None:\n",
    "            curr.next = None\n",
    "            break\n",
    "        curr = curr.next\n",
    "# O(1)\n",
    "def remove_inner_simple(node):\n",
    "    if not (node.data or node.next): return False\n",
    "    nex = node.next\n",
    "    node.data = nex.data # copy data\n",
    "    node.next = nex.next # delete next node\n",
    "    return True"
   ]
  },
  {
   "cell_type": "code",
   "execution_count": 90,
   "metadata": {},
   "outputs": [
    {
     "name": "stdout",
     "output_type": "stream",
     "text": [
      "['(data: a, next: (data: b, next: (data: d, next: (data: e, next: (data: f, next: None)))))', '(data: b, next: (data: d, next: (data: e, next: (data: f, next: None))))', '(data: d, next: (data: e, next: (data: f, next: None)))', '(data: e, next: (data: f, next: None))', '(data: f, next: None)']\n"
     ]
    }
   ],
   "source": [
    "n = get_node(ll, \"c\")\n",
    "# print(n)\n",
    "remove_inner(n)\n",
    "print(ll)"
   ]
  },
  {
   "cell_type": "code",
   "execution_count": 76,
   "metadata": {},
   "outputs": [],
   "source": [
    "# O(n), O(1)\n",
    "def partition(node, p):\n",
    "    head = node\n",
    "    tail = node\n",
    "    \n",
    "    while node != None:\n",
    "        nex = node.next\n",
    "        if node.data < p:\n",
    "            node.next = head\n",
    "            head = node\n",
    "        else:\n",
    "            tail.next = node\n",
    "            tail = node\n",
    "        node = nex\n",
    "    \n",
    "    tail.next = None\n",
    "        \n",
    "    return head\n",
    "\n",
    "# not optimal, TC: O(n^2), SC: O(n)\n",
    "def py_partition(node, p):\n",
    "    l = []\n",
    "    curr = node\n",
    "    while curr.next:\n",
    "        l.append(curr.data)\n",
    "        curr = curr.next\n",
    "    l.append(curr.data)\n",
    "    l.sort()\n",
    "    \n",
    "    n = LinkedList()\n",
    "\n",
    "    for i in range(0, len(l)):\n",
    "        if n.head == None:\n",
    "            n.head = Node(l[i])\n",
    "            continue\n",
    "        curr = n.head\n",
    "        while curr.next:\n",
    "            curr = curr.next\n",
    "\n",
    "        curr.next = Node(l[i])\n",
    "    \n",
    "    return n.head"
   ]
  },
  {
   "cell_type": "code",
   "execution_count": 77,
   "metadata": {},
   "outputs": [
    {
     "name": "stdout",
     "output_type": "stream",
     "text": [
      "['(data: 3, next: (data: 5, next: (data: 8, next: (data: 5, next: (data: 10, next: (data: 2, next: (data: 1, next: None)))))))', '(data: 5, next: (data: 8, next: (data: 5, next: (data: 10, next: (data: 2, next: (data: 1, next: None))))))', '(data: 8, next: (data: 5, next: (data: 10, next: (data: 2, next: (data: 1, next: None)))))', '(data: 5, next: (data: 10, next: (data: 2, next: (data: 1, next: None))))', '(data: 10, next: (data: 2, next: (data: 1, next: None)))', '(data: 2, next: (data: 1, next: None))', '(data: 1, next: None)']\n"
     ]
    }
   ],
   "source": [
    "b = LinkedList()\n",
    "b.append(3)\n",
    "b.append(5)\n",
    "b.append(8)\n",
    "b.append(5)\n",
    "b.append(10)\n",
    "b.append(2)\n",
    "b.append(1)\n",
    "print(b)"
   ]
  },
  {
   "cell_type": "code",
   "execution_count": 78,
   "metadata": {},
   "outputs": [
    {
     "name": "stdout",
     "output_type": "stream",
     "text": [
      "(data: 1, next: (data: 2, next: (data: 3, next: (data: 5, next: (data: 5, next: (data: 8, next: (data: 10, next: None)))))))\n"
     ]
    }
   ],
   "source": [
    "print(py_partition(b.head, 5))"
   ]
  },
  {
   "cell_type": "code",
   "execution_count": 103,
   "metadata": {},
   "outputs": [
    {
     "name": "stdout",
     "output_type": "stream",
     "text": [
      "['(data: 3, next: (data: 5, next: (data: 8, next: (data: 5, next: (data: 10, next: (data: 2, next: (data: 1, next: None)))))))', '(data: 5, next: (data: 8, next: (data: 5, next: (data: 10, next: (data: 2, next: (data: 1, next: None))))))', '(data: 8, next: (data: 5, next: (data: 10, next: (data: 2, next: (data: 1, next: None)))))', '(data: 5, next: (data: 10, next: (data: 2, next: (data: 1, next: None))))', '(data: 10, next: (data: 2, next: (data: 1, next: None)))', '(data: 2, next: (data: 1, next: None))', '(data: 1, next: None)']\n"
     ]
    }
   ],
   "source": [
    "print(b)"
   ]
  },
  {
   "cell_type": "code",
   "execution_count": 6,
   "metadata": {},
   "outputs": [],
   "source": [
    "for i in range():\n",
    "    print(i)"
   ]
  },
  {
   "cell_type": "code",
   "execution_count": 30,
   "metadata": {},
   "outputs": [],
   "source": [
    "# conversion to number\n",
    "def sum_linked_list(a, b):\n",
    "    result = str(construct_num(a) + construct_num(b)) # O(n^2)\n",
    "    count = len(result)\n",
    "    final = \"\"\n",
    "    while count: # O(n)\n",
    "        final = result[count-1] + final # O(n)\n",
    "        count -= 1\n",
    "    \n",
    "    sum_list = LinkedList()\n",
    "    for i in range(0, len(final)): # O(n)\n",
    "        sum_list.prepend(final[i]) # O(1)\n",
    "    \n",
    "    return sum_list\n",
    "\n",
    "def construct_num(l):\n",
    "    num_l = ''\n",
    "    curr = l.head\n",
    "    while curr.next:\n",
    "        num_l = str(curr.data) + num_l # O(n)\n",
    "        curr = curr.next\n",
    "    num_l = str(curr.data) + num_l\n",
    "    return int(num_l)\n",
    "\n",
    "# without conversion to number, O(n)\n",
    "def sum_list(a, b):\n",
    "    result = Node()\n",
    "    rem = 0\n",
    "    curr_result = result\n",
    "    while a or b:\n",
    "        a_val = a.data if a else 0\n",
    "        b_val = b.data if b else 0\n",
    "        summed = a_val + b_val + rem\n",
    "        \n",
    "        if summed >= 10:\n",
    "            curr_result.data = summed % 10\n",
    "            rem = 1\n",
    "        else:\n",
    "            curr_result.data = summed\n",
    "            rem = 0\n",
    "        \n",
    "        a = a.next if a else a\n",
    "        b = b.next if b else b\n",
    "        curr_result.next = Node()\n",
    "        curr_result = curr_result.next\n",
    "           \n",
    "    return result\n",
    "\n",
    "# less verbose with recursion, O(n)\n",
    "def add_lists(a, b, rem=0):\n",
    "    # if all values null, return null\n",
    "    if not a and not b and not rem:\n",
    "        return\n",
    "    \n",
    "    # output will be a linked list node\n",
    "    result = Node()\n",
    "    \n",
    "    # set the value to the remainder\n",
    "    value = rem\n",
    "    # if a is not null, add a num to value\n",
    "    if a:\n",
    "        value += a.data\n",
    "    # same for b\n",
    "    if b:\n",
    "        value += b.data\n",
    "    # current node data will be set to the second digit of that summed a and b data\n",
    "    result.data = value % 10\n",
    "    # while a or b still exist\n",
    "    if a or b:\n",
    "        # recurse the method, stepping forward in each list, \n",
    "        # setting the remainder to 1 or 0 depending on num of digits in value\n",
    "        more = add_lists(None if not a else a.next, \n",
    "                        None if not b else b.next,\n",
    "                        1 if value >= 10 else 0)\n",
    "        # set the result node's next value\n",
    "        result.next = more\n",
    "    \n",
    "    return result"
   ]
  },
  {
   "cell_type": "code",
   "execution_count": 31,
   "metadata": {},
   "outputs": [
    {
     "name": "stdout",
     "output_type": "stream",
     "text": [
      "['(data: 7, next: (data: 1, next: (data: 6, next: None)))', '(data: 1, next: (data: 6, next: None))', '(data: 6, next: None)']\n"
     ]
    }
   ],
   "source": [
    "a, b = LinkedList(), LinkedList()\n",
    "a.append(7)\n",
    "a.append(1)\n",
    "a.append(6)\n",
    "b.append(5)\n",
    "b.append(9)\n",
    "b.append(2)\n",
    "b.append(1)\n",
    "print(a)"
   ]
  },
  {
   "cell_type": "code",
   "execution_count": 32,
   "metadata": {},
   "outputs": [],
   "source": [
    "c = sum_list(a.head, b.head)"
   ]
  },
  {
   "cell_type": "code",
   "execution_count": 33,
   "metadata": {},
   "outputs": [
    {
     "name": "stdout",
     "output_type": "stream",
     "text": [
      "(data: 2, next: (data: 1, next: (data: 9, next: (data: 1, next: (data: None, next: None)))))\n"
     ]
    }
   ],
   "source": [
    "print(c)"
   ]
  },
  {
   "cell_type": "code",
   "execution_count": 181,
   "metadata": {},
   "outputs": [],
   "source": [
    "# O(n)\n",
    "def is_palindrome(head):\n",
    "    length = 0\n",
    "    curr = head\n",
    "    while curr:\n",
    "        length += 1\n",
    "        curr = curr.next\n",
    "    return palindrome(head, length)\n",
    "\n",
    "# this is O(n/2)\n",
    "def palindrome(head, length):\n",
    "    if length <= 1: return True\n",
    "    \n",
    "    first, last = head, head\n",
    "    for i in range(0, length-1):\n",
    "        last = last.next\n",
    "        \n",
    "    print(first.data, last.data)\n",
    "    if first.data == last.data:\n",
    "        return palindrome(head.next, length-2)\n",
    "    \n",
    "    return False  "
   ]
  },
  {
   "cell_type": "code",
   "execution_count": 186,
   "metadata": {},
   "outputs": [],
   "source": [
    "a = LinkedList()\n",
    "a.append(1)\n",
    "a.append(2)\n",
    "a.append(3)\n",
    "a.append(5)\n",
    "a.append(2)\n",
    "a.append(1)"
   ]
  },
  {
   "cell_type": "code",
   "execution_count": 187,
   "metadata": {},
   "outputs": [
    {
     "name": "stdout",
     "output_type": "stream",
     "text": [
      "1 1\n",
      "2 2\n",
      "3 5\n"
     ]
    },
    {
     "data": {
      "text/plain": [
       "False"
      ]
     },
     "execution_count": 187,
     "metadata": {},
     "output_type": "execute_result"
    }
   ],
   "source": [
    "is_palindrome(a.head)"
   ]
  },
  {
   "cell_type": "code",
   "execution_count": 194,
   "metadata": {},
   "outputs": [
    {
     "data": {
      "text/plain": [
       "3.5"
      ]
     },
     "execution_count": 194,
     "metadata": {},
     "output_type": "execute_result"
    }
   ],
   "source": [
    "abs(3.5)"
   ]
  },
  {
   "cell_type": "code",
   "execution_count": 203,
   "metadata": {},
   "outputs": [],
   "source": [
    "def intersection(a,b):\n",
    "    if not a or not b: return\n",
    "    \n",
    "    tail_a, len_a = get_tail_and_length(a)\n",
    "    tail_b, len_b = get_tail_and_length(b)\n",
    "    \n",
    "    if tail_a != tail_b: return\n",
    "    \n",
    "    shorter = a if len_a < len_b else b\n",
    "    longer = a if len_a > len_b else b\n",
    "    \n",
    "    longer = get_kth_node(longer, abs(len_a - len_b))\n",
    "    \n",
    "    while shorter != longer:\n",
    "        shorter = shorter.next\n",
    "        longer = longer.next\n",
    "    \n",
    "    return longer\n",
    "\n",
    "def get_tail_and_length(head):\n",
    "    curr = head\n",
    "    length = 1\n",
    "    while curr.next:\n",
    "        length += 1\n",
    "        curr = curr.next\n",
    "    \n",
    "    return curr, length\n",
    "\n",
    "def get_kth_node(node, k):\n",
    "    curr = node\n",
    "    while k > 0 and curr:\n",
    "        curr = curr.next\n",
    "        k -= 1\n",
    "        \n",
    "    return curr"
   ]
  },
  {
   "cell_type": "code",
   "execution_count": 220,
   "metadata": {},
   "outputs": [],
   "source": [
    "a, b = LinkedList(), LinkedList()\n",
    "a.append(3)\n",
    "a.append(1)\n",
    "a.append(5)\n",
    "a.append(9)\n",
    "a.append(7)\n",
    "a.append(2)\n",
    "a.append(1)\n",
    "\n",
    "b.append(4)\n",
    "b.append(6)\n",
    "n = get_kth_node(b.head, 1)\n",
    "n.next = get_kth_node(a.head, 4)\n",
    "n.next.next = get_kth_node(a.head, 5)\n",
    "n.next.next.next = get_kth_node(a.head, 6)"
   ]
  },
  {
   "cell_type": "code",
   "execution_count": 224,
   "metadata": {},
   "outputs": [
    {
     "name": "stdout",
     "output_type": "stream",
     "text": [
      "(data: 1, next: None) (data: 1, next: None)\n",
      "(data: 7, next: (data: 2, next: (data: 1, next: None)))\n"
     ]
    }
   ],
   "source": [
    "print(intersection(a.head, b.head))"
   ]
  },
  {
   "cell_type": "code",
   "execution_count": null,
   "metadata": {},
   "outputs": [],
   "source": []
  }
 ],
 "metadata": {
  "kernelspec": {
   "display_name": "Python 3",
   "language": "python",
   "name": "python3"
  },
  "language_info": {
   "codemirror_mode": {
    "name": "ipython",
    "version": 3
   },
   "file_extension": ".py",
   "mimetype": "text/x-python",
   "name": "python",
   "nbconvert_exporter": "python",
   "pygments_lexer": "ipython3",
   "version": "3.7.3"
  }
 },
 "nbformat": 4,
 "nbformat_minor": 2
}
