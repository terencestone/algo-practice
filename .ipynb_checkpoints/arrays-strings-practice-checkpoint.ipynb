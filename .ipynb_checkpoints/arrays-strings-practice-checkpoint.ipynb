{
 "cells": [
  {
   "cell_type": "code",
   "execution_count": 80,
   "metadata": {},
   "outputs": [],
   "source": [
    "import math\n",
    "# without additional data structures\n",
    "def has_unique_characters(string):\n",
    "    if len(string) <= 1: return True\n",
    "    str_list = sorted(string)\n",
    "    for (i,char) in enumerate(str_list): \n",
    "        if i == len(str_list) - 1: return True\n",
    "        prev_char = str_list[i-1]\n",
    "        next_char = str_list[i+1]\n",
    "        if char == prev_char or char == next_char:\n",
    "            return False"
   ]
  },
  {
   "cell_type": "code",
   "execution_count": 86,
   "metadata": {},
   "outputs": [
    {
     "data": {
      "text/plain": [
       "False"
      ]
     },
     "execution_count": 86,
     "metadata": {},
     "output_type": "execute_result"
    }
   ],
   "source": [
    "has_unique_characters(\"zbcdefgz\")"
   ]
  },
  {
   "cell_type": "code",
   "execution_count": 59,
   "metadata": {},
   "outputs": [],
   "source": [
    "def is_unique(string):\n",
    "    if len(string) <= 1: return True\n",
    "    letters = []\n",
    "    for char in string:\n",
    "        if char in letters:\n",
    "            return False\n",
    "        letters.append(char)\n",
    "        \n",
    "    return True"
   ]
  },
  {
   "cell_type": "code",
   "execution_count": 64,
   "metadata": {},
   "outputs": [
    {
     "data": {
      "text/plain": [
       "True"
      ]
     },
     "execution_count": 64,
     "metadata": {},
     "output_type": "execute_result"
    }
   ],
   "source": [
    "is_unique(\"abcdefghi\")"
   ]
  },
  {
   "cell_type": "code",
   "execution_count": 88,
   "metadata": {},
   "outputs": [],
   "source": [
    "bah = {\"a\": 1, \"b\": 2}"
   ]
  },
  {
   "cell_type": "code",
   "execution_count": 89,
   "metadata": {},
   "outputs": [
    {
     "data": {
      "text/plain": [
       "dict_items([('a', 1), ('b', 2)])"
      ]
     },
     "execution_count": 89,
     "metadata": {},
     "output_type": "execute_result"
    }
   ],
   "source": [
    "bah.items()"
   ]
  },
  {
   "cell_type": "code",
   "execution_count": 90,
   "metadata": {},
   "outputs": [
    {
     "data": {
      "text/plain": [
       "dict_keys(['a', 'b'])"
      ]
     },
     "execution_count": 90,
     "metadata": {},
     "output_type": "execute_result"
    }
   ],
   "source": [
    "bah.keys()"
   ]
  },
  {
   "cell_type": "code",
   "execution_count": 153,
   "metadata": {},
   "outputs": [],
   "source": [
    "# O(n^2) but usually O(n)\n",
    "# def are_permutations(str_a, str_b):\n",
    "#     if len(str_a) != len(str_b): \n",
    "#         return False\n",
    "#     dict_a, dict_b = {}, {}\n",
    "    \n",
    "#     for (i,char) in enumerate(str_a): # O(a)\n",
    "#         if char in dict_a: # O(a)\n",
    "#             dict_a[char] += 1\n",
    "#         else:\n",
    "#             dict_a[char] = 1\n",
    "            \n",
    "#         if str_b[i] in dict_b: # O(b)\n",
    "#             dict_b[str_b[i]] += 1\n",
    "#         else:\n",
    "#             dict_b[str_b[i]] = 1\n",
    "\n",
    "#     for (k,v) in dict_a.items(): # O(a)\n",
    "#         if dict_b[k] != v: return False\n",
    "    \n",
    "#     return True\n",
    "\n",
    "# O(n)\n",
    "def are_permutations(str_a, str_b):\n",
    "    if len(str_a) != len(str_b): \n",
    "        return False\n",
    "    \n",
    "    counter = {chr(i): 0 for i in range(129)}\n",
    "    for char in str_a:\n",
    "        counter[char] += 1\n",
    "    \n",
    "    for char in str_b:\n",
    "        counter[char] -= 1\n",
    "        if counter[char] < 0: return False\n",
    "    \n",
    "    return True"
   ]
  },
  {
   "cell_type": "code",
   "execution_count": 160,
   "metadata": {},
   "outputs": [
    {
     "data": {
      "text/plain": [
       "False"
      ]
     },
     "execution_count": 160,
     "metadata": {},
     "output_type": "execute_result"
    }
   ],
   "source": [
    "are_permutations(\"abbaabc\", \"cbxaabb\")"
   ]
  },
  {
   "cell_type": "code",
   "execution_count": 145,
   "metadata": {},
   "outputs": [],
   "source": [
    "# O(n log n)\n",
    "def are_permutations_redux(str_a, str_b):\n",
    "    if len(str_a) != len(str_b): return False\n",
    "    list_a = sorted(str_a)\n",
    "    list_b = sorted(str_b)\n",
    "    return list_a == list_b"
   ]
  },
  {
   "cell_type": "code",
   "execution_count": 167,
   "metadata": {},
   "outputs": [
    {
     "data": {
      "text/plain": [
       "True"
      ]
     },
     "execution_count": 167,
     "metadata": {},
     "output_type": "execute_result"
    }
   ],
   "source": [
    "are_permutations_redux(\"abba\", \"abba\")"
   ]
  },
  {
   "cell_type": "code",
   "execution_count": 190,
   "metadata": {},
   "outputs": [],
   "source": [
    "from datetime import datetime\n",
    "# URLify: Replace all spaces instring w/ '%20'. Remove trailing spaces.\n",
    "\n",
    "# easy built-in way: O(n)\n",
    "def easy_replace_spaces(string):\n",
    "    start = datetime.now()\n",
    "    string = string.strip().replace(\" \", '%20') # O(n + n)\n",
    "    end = datetime.now()\n",
    "    print(end - start)\n",
    "    return string\n",
    "\n",
    "# manual way - O(n + k) --> O(n)\n",
    "def replace_spaces(string):\n",
    "    start = datetime.now()\n",
    "    rev, num_spaces = reverse(string), 0 # O(n)\n",
    "    for char in rev: # O(n)\n",
    "        if char != \" \": break\n",
    "        num_spaces += 1\n",
    "    \n",
    "    str_list = reverse(rev[num_spaces:]) # O(k) - where k is size of splice\n",
    "    for i in range(0, len(str_list)): # O(k)\n",
    "        if str_list[i] == ' ':\n",
    "            str_list[i] = '%20'\n",
    "    \n",
    "    end = datetime.now()\n",
    "    \n",
    "    print(end - start)\n",
    "    return \"\".join(str_list) # O(k)\n",
    "\n",
    "def reverse(collection):\n",
    "    rev = []\n",
    "    for i in range(0, len(collection)): # O(n)\n",
    "        rev.append(collection[-(i+1)]) # O(1)\n",
    "    return rev"
   ]
  },
  {
   "cell_type": "code",
   "execution_count": 194,
   "metadata": {},
   "outputs": [
    {
     "name": "stdout",
     "output_type": "stream",
     "text": [
      "0:00:00.003677\n"
     ]
    },
    {
     "data": {
      "text/plain": [
       "\"I'm%20baby%20meggings%20leggings%20etsy%20fingerstache%20chicharrones%20bushwick%20live-edge%20hexagon%20taiyaki%203%20wolf%20moon%20vaporware%20mlkshk.%20Schlitz%20kickstarter%20PBR&B%20pickled%20umami%20chicharrones.%20Man%20braid%20scenester%20iceland,%20prism%20pork%20belly%20skateboard%20tote%20bag%20fashion%20axe%20cornhole%20flexitarian%20vape%20hell%20of%20knausgaard%20leggings%20hexagon.%20Vape%20you%20probably%20haven't%20heard%20of%20them%20fingerstache%20mixtape.%20Kale%20chips%20wayfarers%20leggings%20PBR&B,%20poke%20lomo%20tofu%20microdosing%20butcher%20deep%20v%20master%20cleanse%20humblebrag%20pop-up%20plaid%20vegan.%20Sustainable%20vegan%20meh%20XOXO,%20slow-carb%20hell%20of%20cred%20brunch%20semiotics%20pop-up%20vice%20hella%20celiac.%20Williamsburg%20tattooed%20umami%20man%20bun,%20single-origin%20coffee%20twee%20tilde%20literally.\""
      ]
     },
     "execution_count": 194,
     "metadata": {},
     "output_type": "execute_result"
    }
   ],
   "source": [
    "replace_spaces(\"I'm baby meggings leggings etsy fingerstache chicharrones bushwick live-edge hexagon taiyaki 3 wolf moon vaporware mlkshk. Schlitz kickstarter PBR&B pickled umami chicharrones. Man braid scenester iceland, prism pork belly skateboard tote bag fashion axe cornhole flexitarian vape hell of knausgaard leggings hexagon. Vape you probably haven't heard of them fingerstache mixtape. Kale chips wayfarers leggings PBR&B, poke lomo tofu microdosing butcher deep v master cleanse humblebrag pop-up plaid vegan. Sustainable vegan meh XOXO, slow-carb hell of cred brunch semiotics pop-up vice hella celiac. Williamsburg tattooed umami man bun, single-origin coffee twee tilde literally.                                                                                                                \")"
   ]
  },
  {
   "cell_type": "code",
   "execution_count": 195,
   "metadata": {},
   "outputs": [
    {
     "name": "stdout",
     "output_type": "stream",
     "text": [
      "0:00:00.000012\n"
     ]
    },
    {
     "data": {
      "text/plain": [
       "\"I'm%20baby%20meggings%20leggings%20etsy%20fingerstache%20chicharrones%20bushwick%20live-edge%20hexagon%20taiyaki%203%20wolf%20moon%20vaporware%20mlkshk.%20Schlitz%20kickstarter%20PBR&B%20pickled%20umami%20chicharrones.%20Man%20braid%20scenester%20iceland,%20prism%20pork%20belly%20skateboard%20tote%20bag%20fashion%20axe%20cornhole%20flexitarian%20vape%20hell%20of%20knausgaard%20leggings%20hexagon.%20Vape%20you%20probably%20haven't%20heard%20of%20them%20fingerstache%20mixtape.%20Kale%20chips%20wayfarers%20leggings%20PBR&B,%20poke%20lomo%20tofu%20microdosing%20butcher%20deep%20v%20master%20cleanse%20humblebrag%20pop-up%20plaid%20vegan.%20Sustainable%20vegan%20meh%20XOXO,%20slow-carb%20hell%20of%20cred%20brunch%20semiotics%20pop-up%20vice%20hella%20celiac.%20Williamsburg%20tattooed%20umami%20man%20bun,%20single-origin%20coffee%20twee%20tilde%20literally.\""
      ]
     },
     "execution_count": 195,
     "metadata": {},
     "output_type": "execute_result"
    }
   ],
   "source": [
    "easy_replace_spaces(\"I'm baby meggings leggings etsy fingerstache chicharrones bushwick live-edge hexagon taiyaki 3 wolf moon vaporware mlkshk. Schlitz kickstarter PBR&B pickled umami chicharrones. Man braid scenester iceland, prism pork belly skateboard tote bag fashion axe cornhole flexitarian vape hell of knausgaard leggings hexagon. Vape you probably haven't heard of them fingerstache mixtape. Kale chips wayfarers leggings PBR&B, poke lomo tofu microdosing butcher deep v master cleanse humblebrag pop-up plaid vegan. Sustainable vegan meh XOXO, slow-carb hell of cred brunch semiotics pop-up vice hella celiac. Williamsburg tattooed umami man bun, single-origin coffee twee tilde literally.                                                                                                                \")"
   ]
  },
  {
   "cell_type": "code",
   "execution_count": 98,
   "metadata": {},
   "outputs": [
    {
     "data": {
      "text/plain": [
       "(2, 7, 10)"
      ]
     },
     "execution_count": 98,
     "metadata": {},
     "output_type": "execute_result"
    }
   ],
   "source": [
    "a, b, c = 1+1, 3+4, 4+6\n",
    "(a,b,c)"
   ]
  },
  {
   "cell_type": "code",
   "execution_count": 75,
   "metadata": {},
   "outputs": [],
   "source": [
    "def is_palindrome_permutation(string):\n",
    "    string = \"\".join([c.lower() for c in string if c.isalpha()])\n",
    "    return check_permutations(string) or False\n",
    "\n",
    "def is_palindrome(permutation):\n",
    "    p_list = list(permutation)\n",
    "    rev = list(permutation)\n",
    "    rev.reverse()\n",
    "    if p_list == rev:\n",
    "        return True\n",
    "    return False\n",
    "\n",
    "# this is at best O(n!) - very inefficient\n",
    "def check_permutations(string, prefix=''):\n",
    "    if not len(string):\n",
    "        return is_palindrome(prefix)\n",
    "    else:\n",
    "        for i in range(0, len(string)):\n",
    "            rem = string[0:i] + string[i+1:]\n",
    "            palindrome = check_permutations(rem, prefix + string[i])\n",
    "            if palindrome: return palindrome"
   ]
  },
  {
   "cell_type": "code",
   "execution_count": 81,
   "metadata": {},
   "outputs": [
    {
     "data": {
      "text/plain": [
       "True"
      ]
     },
     "execution_count": 81,
     "metadata": {},
     "output_type": "execute_result"
    }
   ],
   "source": [
    "is_palindrome_permutation(\"Tact Coa\")"
   ]
  },
  {
   "cell_type": "code",
   "execution_count": 93,
   "metadata": {},
   "outputs": [],
   "source": [
    "# we know that a palindrome with even length can have no odd counts for any character\n",
    "# and a palindrome with odd length can have at most one letter with an odd count\n",
    "# so just need to check if there's ever more than one character with an odd count\n",
    "\n",
    "# this is O(n)\n",
    "def is_palindrome_permutation(string):\n",
    "    string = string.lower()\n",
    "    counter = {}\n",
    "    for char in string:\n",
    "        if not char.isalpha():\n",
    "            continue\n",
    "        if counter.get(char):\n",
    "            counter[char] += 1\n",
    "        else:\n",
    "            counter[char] = 1\n",
    "    \n",
    "    found_odd = False\n",
    "    for v in counter.values():\n",
    "        if v % 2 != 0:\n",
    "            if found_odd:\n",
    "                return False\n",
    "            found_odd = True\n",
    "        \n",
    "    return True"
   ]
  },
  {
   "cell_type": "code",
   "execution_count": 96,
   "metadata": {},
   "outputs": [
    {
     "data": {
      "text/plain": [
       "False"
      ]
     },
     "execution_count": 96,
     "metadata": {},
     "output_type": "execute_result"
    }
   ],
   "source": [
    "is_palindrome_permutation(\"ABBC\")"
   ]
  },
  {
   "cell_type": "code",
   "execution_count": 190,
   "metadata": {},
   "outputs": [],
   "source": [
    "# One Away\n",
    "# Given two strings, write a funtion to check if they are one or less edits (insert, remove, replace) away.\n",
    "\n",
    "# ex. pale, ple --> True - one edit of insertion or removal\n",
    "\n",
    "# if the strings have more than one variable character, it's false\n",
    "# if string lengths vary by more than one either way, it's false\n",
    "# otherwise we need to check where they vary\n",
    "# if length is off by one, can we insert or remove to make the same?\n",
    "# if length is same, what needs to be swapped\n",
    "# this means we need to know how similar they are\n",
    "\n",
    "# this will be O(a*b + b*a + a*b) --> O(3(a*b)) --> O(ab)\n",
    "def one_away(str_a, str_b):\n",
    "    len_a, len_b = len(str_a), len(str_b)\n",
    "    if len_a > (len_b + 1) or len_a < (len_b - 1):\n",
    "        return False\n",
    "    \n",
    "    if len_a < len_b:\n",
    "        for (i,char) in enumerate(str_a): # O(a)\n",
    "            if char not in str_b: # O(b)\n",
    "                return False\n",
    "            if char == str_b[i] or char == str_b[i+1]:\n",
    "                continue\n",
    "            else:\n",
    "                return False\n",
    "    \n",
    "    if len_a > len_b:\n",
    "        for (i,char) in enumerate(str_b): # O(b)\n",
    "            if char not in str_a: # O(a)\n",
    "                return False\n",
    "            if char == str_a[i] or char == str_a[i+1]:\n",
    "                continue\n",
    "            else:\n",
    "                return False\n",
    "    \n",
    "    count = 0\n",
    "    if len_a == len_b:\n",
    "        for (i,char) in enumerate(str_a): # O(a)\n",
    "            if char not in str_b: # O(b)\n",
    "                count += 1\n",
    "            if count > 1: return False\n",
    "            if count < 1 and char != str_b[i]:\n",
    "                return False\n",
    "    \n",
    "    return True\n",
    "\n",
    "# O(a + b + (a or b) + a) --> O(a + b) --> but really O(n) where n is shorter string\n",
    "# the space here however is not optimal as O(ab), do we need to use the dicts?\n",
    "def one_away_redux(str_a, str_b):\n",
    "    len_a, len_b = len(str_a), len(str_b)\n",
    "    if abs(len_a - len_b) > 1:\n",
    "        return False\n",
    "    \n",
    "    hash_a = {char: i for (i,char) in enumerate(str_a)} # O(a)\n",
    "    hash_b = {char: i for (i,char) in enumerate(str_b)} # O(b)\n",
    "    \n",
    "    if len_a > len_b:\n",
    "        longest = hash_a\n",
    "        smaller = hash_b\n",
    "    else:\n",
    "        longest = hash_b\n",
    "        smaller = hash_a\n",
    "        \n",
    "    if abs(len_a - len_b) == 1:\n",
    "        for (char,i) in smaller.items(): # O(smaller)\n",
    "            if abs(i-longest[char]) > 1:\n",
    "                return False\n",
    "    \n",
    "    if len_a == len_b:\n",
    "        count = 0\n",
    "        for (char,i) in hash_a.items(): # O(a)\n",
    "            if not hash_b.get(char):\n",
    "                count +=1 \n",
    "                if count > 1: return False\n",
    "                continue\n",
    "            if abs(i - hash_b[char]) > 1:\n",
    "                return False\n",
    "                \n",
    "    return True\n",
    "    "
   ]
  },
  {
   "cell_type": "code",
   "execution_count": 192,
   "metadata": {},
   "outputs": [
    {
     "data": {
      "text/plain": [
       "True"
      ]
     },
     "execution_count": 192,
     "metadata": {},
     "output_type": "execute_result"
    }
   ],
   "source": [
    "one_away_redux('pale', 'bale')"
   ]
  },
  {
   "cell_type": "code",
   "execution_count": 196,
   "metadata": {},
   "outputs": [
    {
     "data": {
      "text/plain": [
       "[[], [], [], [], [], [], [], [], [], []]"
      ]
     },
     "execution_count": 196,
     "metadata": {},
     "output_type": "execute_result"
    }
   ],
   "source": [
    "[[] for i in range(0,10)]"
   ]
  },
  {
   "cell_type": "code",
   "execution_count": 214,
   "metadata": {},
   "outputs": [],
   "source": [
    "# this is O(n^2) for time and O(n^2) for space. Could do this with O(1) space.\n",
    "def rotate(matrix):\n",
    "    rotated = [[] for i in range(0,len(matrix))]\n",
    "    matrix.reverse()\n",
    "    for row in matrix:\n",
    "        for (i,num) in enumerate(row):\n",
    "            rotated[i].append(num)\n",
    "    return rotated\n",
    "\n",
    "# this is TC: O(n^2), SC: O(1)\n",
    "def rotate_in_place(matrix):\n",
    "    length = len(matrix)\n",
    "    layer = 0\n",
    "    while layer < length / 2:\n",
    "        first = layer\n",
    "        last = length - 1 - layer\n",
    "        i = first\n",
    "        while i < last:\n",
    "            offset = i - first\n",
    "            top = matrix[first][i]\n",
    "            \n",
    "            # left --> top\n",
    "            matrix[first][i] = matrix[last-offset][first]\n",
    "            \n",
    "            # bottom --> left\n",
    "            matrix[last-offset][first] = matrix[last][last-offset]\n",
    "            \n",
    "            # right --> bottom\n",
    "            matrix[last][last-offset] = matrix[i][last]\n",
    "            \n",
    "            # top --> right\n",
    "            matrix[i][last] = top\n",
    "            \n",
    "            i += 1\n",
    "            \n",
    "        layer += 1\n",
    "    \n",
    "    return matrix"
   ]
  },
  {
   "cell_type": "code",
   "execution_count": 213,
   "metadata": {},
   "outputs": [
    {
     "data": {
      "text/plain": [
       "[[13, 9, 5, 1], [14, 10, 6, 2], [15, 11, 7, 3], [16, 12, 8, 4]]"
      ]
     },
     "execution_count": 213,
     "metadata": {},
     "output_type": "execute_result"
    }
   ],
   "source": [
    "rotate_in_place([[1,2,3,4],[5,6,7,8],[9,10,11,12],[13,14,15,16]])"
   ]
  },
  {
   "cell_type": "code",
   "execution_count": 240,
   "metadata": {},
   "outputs": [],
   "source": [
    "# I believe this is O(NM + K(N+M)) --> O(NM(N+M)) where K is length of list of tuples\n",
    "def zero_matrix(matrix):\n",
    "    if not matrix: return matrix\n",
    "    \n",
    "    zero_elem = []\n",
    "    for (i,row) in enumerate(matrix):\n",
    "        for (j,num) in enumerate(row):\n",
    "            if num == 0: zero_elem.append((i,j))\n",
    "\n",
    "    if not zero_elem: return matrix\n",
    "    \n",
    "    for (row, col) in zero_elem:\n",
    "        matrix[row] = [0 for num in matrix[row]]\n",
    "        for row in matrix:\n",
    "            row[col] = 0\n",
    "    \n",
    "    return matrix\n",
    "\n",
    "# TC: O(MN + MN + NM) --> O(NM), SC: O(M + N)\n",
    "def zero_matrix_redux(matrix):\n",
    "    if not matrix: return matrix\n",
    "    \n",
    "    rows = [False for i in range(0, len(matrix))]\n",
    "    columns = [False for i in range(0, len(matrix[0]))]\n",
    "    \n",
    "    for row in range(0, len(matrix)): # O(M)\n",
    "        for col in range(0, len(matrix[row])): # O(N)\n",
    "            if matrix[row][col] == 0:\n",
    "                rows[row] = True\n",
    "                columns[col] = True\n",
    "    \n",
    "    if True not in rows or True not in columns: return matrix # O(M + N)\n",
    "    \n",
    "    for i in range(0, len(rows)): # O(M)\n",
    "        if rows[i]: \n",
    "            for j in range(0, len(matrix[0])): # O(N)\n",
    "                matrix[i][j] = 0\n",
    "    \n",
    "    for j in range(0, len(columns)): # O(N)\n",
    "        if columns[j]: \n",
    "            for i in range(0, len(matrix)): # O(M)\n",
    "                matrix[i][j] = 0\n",
    "    \n",
    "    return matrix\n",
    "            "
   ]
  },
  {
   "cell_type": "code",
   "execution_count": 242,
   "metadata": {},
   "outputs": [
    {
     "data": {
      "text/plain": [
       "[[0, 0, 0, 0], [0, 0, 0, 0], [9, 0, 11, 0]]"
      ]
     },
     "execution_count": 242,
     "metadata": {},
     "output_type": "execute_result"
    }
   ],
   "source": [
    "# sum([[1,2,3,4],[5,6,7,8],[9,10,11,12]])\n",
    "# zero_matrix([[1,0,3,4],[5,6,7,0],[9,10,11,12]])\n",
    "zero_matrix_redux([[1,0,3,4],[5,6,7,0],[9,10,11,12]])"
   ]
  },
  {
   "cell_type": "code",
   "execution_count": 80,
   "metadata": {},
   "outputs": [],
   "source": [
    "class Node:\n",
    "    def __init__(self, data=None):\n",
    "        self.next = None\n",
    "        self.data = data\n",
    "    \n",
    "    def __str__(self):\n",
    "        return f'(data: {self.data}, next: {str(self.next)})'\n",
    "    \n",
    "class LinkedList:\n",
    "    def __init__(self, head=None):\n",
    "        self.head = head\n",
    "    \n",
    "    def __str__(self):\n",
    "        if not self.head:\n",
    "            return str([])\n",
    "        \n",
    "        l = []\n",
    "        current = self.head\n",
    "        while current:\n",
    "            l.append(str(current))\n",
    "            if current.next:\n",
    "                current = current.next\n",
    "            else:\n",
    "                current = None\n",
    "        \n",
    "        return str(l)\n",
    "    \n",
    "    def append(self, data):\n",
    "        if not self.head:\n",
    "            self.head = Node(data)\n",
    "            return\n",
    "        \n",
    "        current = self.head\n",
    "        while current.next:\n",
    "            current = current.next\n",
    "        \n",
    "        current.next = Node(data)\n",
    "        \n",
    "    def prepend(self, data):\n",
    "        new_head = Node(data)\n",
    "        new_head.next = self.head\n",
    "        self.head = new_head\n",
    "        \n",
    "    def delete_with_value(self, data):\n",
    "        head = self.head\n",
    "        if not head: return\n",
    "        if head.data == data:\n",
    "            self.head = head.next\n",
    "            return\n",
    "        \n",
    "        current = head\n",
    "        while current.next != None:\n",
    "            if current.next.data == data:\n",
    "                current.next = current.next.next\n",
    "        \n",
    "            current = current.next"
   ]
  },
  {
   "cell_type": "code",
   "execution_count": 81,
   "metadata": {},
   "outputs": [],
   "source": [
    "l = LinkedList()\n",
    "l.append(1)"
   ]
  },
  {
   "cell_type": "code",
   "execution_count": 82,
   "metadata": {},
   "outputs": [
    {
     "name": "stdout",
     "output_type": "stream",
     "text": [
      "['(data: 1, next: None)']\n"
     ]
    }
   ],
   "source": [
    "print(l)"
   ]
  },
  {
   "cell_type": "code",
   "execution_count": 83,
   "metadata": {},
   "outputs": [],
   "source": [
    "l.append(2)"
   ]
  },
  {
   "cell_type": "code",
   "execution_count": 84,
   "metadata": {},
   "outputs": [
    {
     "name": "stdout",
     "output_type": "stream",
     "text": [
      "['(data: 1, next: (data: 2, next: None))', '(data: 2, next: None)']\n"
     ]
    }
   ],
   "source": [
    "print(l)"
   ]
  },
  {
   "cell_type": "code",
   "execution_count": 85,
   "metadata": {},
   "outputs": [],
   "source": [
    "l.append(2)"
   ]
  },
  {
   "cell_type": "code",
   "execution_count": 86,
   "metadata": {},
   "outputs": [
    {
     "name": "stdout",
     "output_type": "stream",
     "text": [
      "['(data: 1, next: (data: 2, next: (data: 2, next: None)))', '(data: 2, next: (data: 2, next: None))', '(data: 2, next: None)']\n"
     ]
    }
   ],
   "source": [
    "print(l)"
   ]
  },
  {
   "cell_type": "code",
   "execution_count": 87,
   "metadata": {},
   "outputs": [],
   "source": [
    "l.prepend(3)"
   ]
  },
  {
   "cell_type": "code",
   "execution_count": 88,
   "metadata": {},
   "outputs": [
    {
     "name": "stdout",
     "output_type": "stream",
     "text": [
      "['(data: 3, next: (data: 1, next: (data: 2, next: (data: 2, next: None))))', '(data: 1, next: (data: 2, next: (data: 2, next: None)))', '(data: 2, next: (data: 2, next: None))', '(data: 2, next: None)']\n"
     ]
    }
   ],
   "source": [
    "print(l)"
   ]
  },
  {
   "cell_type": "code",
   "execution_count": 89,
   "metadata": {},
   "outputs": [],
   "source": [
    "l.delete_with_value(3)"
   ]
  },
  {
   "cell_type": "code",
   "execution_count": 90,
   "metadata": {},
   "outputs": [
    {
     "name": "stdout",
     "output_type": "stream",
     "text": [
      "['(data: 1, next: (data: 2, next: (data: 2, next: None)))', '(data: 2, next: (data: 2, next: None))', '(data: 2, next: None)']\n"
     ]
    }
   ],
   "source": [
    "print(l)"
   ]
  },
  {
   "cell_type": "code",
   "execution_count": null,
   "metadata": {},
   "outputs": [],
   "source": []
  },
  {
   "cell_type": "code",
   "execution_count": null,
   "metadata": {},
   "outputs": [],
   "source": []
  }
 ],
 "metadata": {
  "kernelspec": {
   "display_name": "Python 3",
   "language": "python",
   "name": "python3"
  },
  "language_info": {
   "codemirror_mode": {
    "name": "ipython",
    "version": 3
   },
   "file_extension": ".py",
   "mimetype": "text/x-python",
   "name": "python",
   "nbconvert_exporter": "python",
   "pygments_lexer": "ipython3",
   "version": "3.7.3"
  }
 },
 "nbformat": 4,
 "nbformat_minor": 2
}
